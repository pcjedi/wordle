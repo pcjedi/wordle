{
 "cells": [
  {
   "cell_type": "code",
   "execution_count": null,
   "metadata": {},
   "outputs": [],
   "source": [
    "from collections import defaultdict\n",
    "\n",
    "import requests\n",
    "from tqdm import tqdm"
   ]
  },
  {
   "cell_type": "code",
   "execution_count": null,
   "metadata": {},
   "outputs": [],
   "source": [
    "resp = requests.get(\"https://gist.githubusercontent.com/dracos/dd0668f281e685bad51479e5acaadb93/raw/6bfa15d263d6d5b63840a8e5b64e04b382fdb079/valid-wordle-words.txt\")"
   ]
  },
  {
   "cell_type": "code",
   "execution_count": null,
   "metadata": {},
   "outputs": [],
   "source": [
    "words = set(w for w in resp.text.split(\"\\n\") if len(w)==5)"
   ]
  },
  {
   "cell_type": "code",
   "execution_count": null,
   "metadata": {},
   "outputs": [],
   "source": [
    "def sparse(word, guess):\n",
    "    enum = {i:l for (i,l) in enumerate(guess) if word[i]==l}\n",
    "    others = \"\".join(l for l in set(guess) if l in word and l not in enum.values())\n",
    "    if len(others)>0:\n",
    "        enum[-1] = others\n",
    "    return enum"
   ]
  },
  {
   "cell_type": "code",
   "execution_count": null,
   "metadata": {},
   "outputs": [],
   "source": [
    "def ori_tuple(word, guess):\n",
    "    rtuple = list(0 for _ in range(len(guess)))\n",
    "    guess_rest = {}\n",
    "    word_rest = {}\n",
    "    for i,l in enumerate(guess):\n",
    "        if word[i]==l:\n",
    "            rtuple[i] = 2\n",
    "        else:\n",
    "            guess_rest[i]=l\n",
    "            word_rest[i]=word[i]\n",
    "    for wl in set(word_rest.values()) & set(guess_rest.values()):\n",
    "        c = list(word_rest.values()).count(l)\n",
    "        for i,gl in guess_rest.items():\n",
    "            if wl==gl:\n",
    "                rtuple[i] = 1\n",
    "                c-=1\n",
    "                if c==0:\n",
    "                    break\n",
    "    return tuple(rtuple)"
   ]
  },
  {
   "cell_type": "code",
   "execution_count": null,
   "metadata": {},
   "outputs": [],
   "source": [
    "def get_match_letters(guess, guess_tuple):\n",
    "    return {l for i,l in enumerate(guess) if guess_tuple[i]==2}\n",
    "\n",
    "def get_indices(guess, letters):\n",
    "    return {i for i in range(len(guess)) if guess[i] in letters}\n",
    "\n",
    "def set1if0(guess_tuple, ix):\n",
    "    return tuple(s if i not in ix else 1 if s==0 else s for i,s in enumerate(guess_tuple))\n",
    "\n",
    "def debugg_guess_tuple(guess, guess_tuple):\n",
    "    return set1if0(guess_tuple, get_indices(guess, get_match_letters(guess, guess_tuple)))"
   ]
  },
  {
   "cell_type": "code",
   "execution_count": null,
   "metadata": {},
   "outputs": [],
   "source": [
    "def gen_wordle(words:set[str], guesses):\n",
    "    notin:set[str] = set()\n",
    "    for guess, guess_tuple in guesses.items():\n",
    "        for l in set(guess):\n",
    "            cl = sum(guess_tuple[ix]>=1 for ix in range(len(guess)) if guess[ix]==l)\n",
    "            if all(guess_tuple[ix]>=1 for ix in range(len(guess)) if guess[ix]==l):\n",
    "                for word in words-notin:\n",
    "                    if cl>word.count(l):\n",
    "                        notin.add(word)\n",
    "            else:\n",
    "                for word in words-notin:\n",
    "                    if cl!=word.count(l):\n",
    "                        notin.add(word)\n",
    "        for i,xl in enumerate(guess_tuple):\n",
    "            for word in words-notin:\n",
    "                if xl==2 and guess[i]!=word[i]:\n",
    "                    notin.add(word)\n",
    "    return words - notin"
   ]
  },
  {
   "cell_type": "code",
   "execution_count": null,
   "metadata": {},
   "outputs": [],
   "source": [
    "def next_wordle(words, no_bar=False):\n",
    "    rdict = defaultdict(lambda: defaultdict(int))\n",
    "    for word in tqdm(words, disable=no_bar):\n",
    "        for guess in words:\n",
    "            rdict[guess][ori_tuple(word, guess)] += 1\n",
    "    ml = max(len(v) for v in rdict.values())\n",
    "    score = {w:(ml-len(v))*len(words)//2 for w,v in rdict.items()}\n",
    "    for w,v in rdict.items():\n",
    "        for t,n in v.items():\n",
    "            score[w] += abs(n-len(words)//2)\n",
    "    min_score = score[min(score, key=score.get)]\n",
    "    ppp = set()\n",
    "    for word in sorted(score, key=score.get):\n",
    "        if score[word]==min_score:\n",
    "            ppp.add(word)\n",
    "        else:\n",
    "            break\n",
    "    return ppp"
   ]
  },
  {
   "cell_type": "code",
   "execution_count": null,
   "metadata": {},
   "outputs": [],
   "source": [
    "next_wordle(\n",
    "    gen_wordle(\n",
    "        words, \n",
    "        {\n",
    "            \"tares\": (0,0,0,0,0),\n",
    "        }\n",
    "    ),\n",
    "    no_bar=True\n",
    ")"
   ]
  }
 ],
 "metadata": {
  "kernelspec": {
   "display_name": "Python 3",
   "language": "python",
   "name": "python3"
  },
  "language_info": {
   "codemirror_mode": {
    "name": "ipython",
    "version": 3
   },
   "file_extension": ".py",
   "mimetype": "text/x-python",
   "name": "python",
   "nbconvert_exporter": "python",
   "pygments_lexer": "ipython3",
   "version": "3.11.1"
  },
  "orig_nbformat": 4
 },
 "nbformat": 4,
 "nbformat_minor": 2
}
