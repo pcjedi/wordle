{
 "cells": [
  {
   "cell_type": "code",
   "execution_count": null,
   "metadata": {},
   "outputs": [],
   "source": [
    "from collections import defaultdict\n",
    "\n",
    "import requests\n",
    "from tqdm import tqdm"
   ]
  },
  {
   "cell_type": "code",
   "execution_count": null,
   "metadata": {},
   "outputs": [],
   "source": [
    "resp = requests.get(\"https://gist.githubusercontent.com/dracos/dd0668f281e685bad51479e5acaadb93/raw/6bfa15d263d6d5b63840a8e5b64e04b382fdb079/valid-wordle-words.txt\")"
   ]
  },
  {
   "cell_type": "code",
   "execution_count": null,
   "metadata": {},
   "outputs": [],
   "source": [
    "with open(\"words.txt\") as f:\n",
    "    words = {word for line in f.readlines() for word in line.strip().lower().split() if len(word)==5}"
   ]
  },
  {
   "cell_type": "code",
   "execution_count": null,
   "metadata": {},
   "outputs": [],
   "source": [
    "def ori_tuple(word, guess):\n",
    "    rtuple = list(0 for _ in range(len(guess)))\n",
    "    guess_rest = {}\n",
    "    word_rest = {}\n",
    "    for i,l in enumerate(guess):\n",
    "        if word[i]==l:\n",
    "            rtuple[i] = 2\n",
    "        else:\n",
    "            guess_rest[i]=l\n",
    "            word_rest[i]=word[i]\n",
    "    for wl in set(word_rest.values()) & set(guess_rest.values()):\n",
    "        c = list(word_rest.values()).count(l)\n",
    "        for i,gl in guess_rest.items():\n",
    "            if wl==gl:\n",
    "                rtuple[i] = 1\n",
    "                c-=1\n",
    "                if c==0:\n",
    "                    break\n",
    "    return tuple(rtuple)"
   ]
  },
  {
   "cell_type": "code",
   "execution_count": null,
   "metadata": {},
   "outputs": [],
   "source": [
    "def gen_wordle(words:set[str], guesses):\n",
    "    notin:set[str] = set()\n",
    "    for guess, guess_tuple in guesses.items():\n",
    "        for l in set(guess):\n",
    "            cl = sum(guess_tuple[ix]>=1 for ix in range(len(guess)) if guess[ix]==l)\n",
    "            if all(guess_tuple[ix]>=1 for ix in range(len(guess)) if guess[ix]==l):\n",
    "                for word in words-notin:\n",
    "                    if cl>word.count(l):\n",
    "                        notin.add(word)\n",
    "            else:\n",
    "                for word in words-notin:\n",
    "                    if cl!=word.count(l):\n",
    "                        notin.add(word)\n",
    "        for i,xl in enumerate(guess_tuple):\n",
    "            for word in words-notin:\n",
    "                if xl==2 and guess[i]!=word[i]:\n",
    "                    notin.add(word)\n",
    "                elif xl!=2 and guess[i]==word[i]:\n",
    "                    notin.add(word)\n",
    "    return words - notin"
   ]
  },
  {
   "cell_type": "code",
   "execution_count": null,
   "metadata": {},
   "outputs": [],
   "source": [
    "def next_wordle(words, no_bar=False):\n",
    "    rdict = defaultdict(lambda: defaultdict(int))\n",
    "    for word in tqdm(words, disable=no_bar):\n",
    "        for guess in words:\n",
    "            rdict[guess][ori_tuple(word, guess)] += 1\n",
    "    score = {guess:max(rdict[guess][tup] for tup in rdict[guess]) for guess in rdict}\n",
    "    return set(filter(lambda word:score[word]==min(score.values()), score))"
   ]
  },
  {
   "cell_type": "code",
   "execution_count": null,
   "metadata": {},
   "outputs": [],
   "source": [
    "next_wordle(\n",
    "    gen_wordle(\n",
    "        words,\n",
    "        {\n",
    "            \"arise\": (0,0,0,0,0),\n",
    "        }\n",
    "    ),\n",
    "    no_bar=False\n",
    ")"
   ]
  }
 ],
 "metadata": {
  "kernelspec": {
   "display_name": "Python 3",
   "language": "python",
   "name": "python3"
  },
  "language_info": {
   "codemirror_mode": {
    "name": "ipython",
    "version": 3
   },
   "file_extension": ".py",
   "mimetype": "text/x-python",
   "name": "python",
   "nbconvert_exporter": "python",
   "pygments_lexer": "ipython3",
   "version": "3.11.1"
  },
  "orig_nbformat": 4
 },
 "nbformat": 4,
 "nbformat_minor": 2
}
