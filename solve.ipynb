{
 "cells": [
  {
   "cell_type": "code",
   "execution_count": null,
   "metadata": {},
   "outputs": [],
   "source": [
    "from collections import defaultdict\n",
    "\n",
    "import requests\n",
    "from tqdm import tqdm"
   ]
  },
  {
   "cell_type": "code",
   "execution_count": null,
   "metadata": {},
   "outputs": [],
   "source": [
    "resp = requests.get(\"https://gist.githubusercontent.com/dracos/dd0668f281e685bad51479e5acaadb93/raw/6bfa15d263d6d5b63840a8e5b64e04b382fdb079/valid-wordle-words.txt\")"
   ]
  },
  {
   "cell_type": "code",
   "execution_count": null,
   "metadata": {},
   "outputs": [],
   "source": [
    "words = set(w for w in resp.text.split(\"\\n\") if len(w)==5)"
   ]
  },
  {
   "cell_type": "code",
   "execution_count": null,
   "metadata": {},
   "outputs": [],
   "source": [
    "def sparse(word, guess):\n",
    "    enum = {i:l for (i,l) in enumerate(guess) if word[i]==l}\n",
    "    others = \"\".join(l for l in set(guess) if l in word and l not in enum.values())\n",
    "    if len(others)>0:\n",
    "        enum[-1] = others\n",
    "    return enum"
   ]
  },
  {
   "cell_type": "code",
   "execution_count": null,
   "metadata": {},
   "outputs": [],
   "source": [
    "def ori_tuple(word, guess):\n",
    "    rtuple = list(0 for _ in range(len(guess)))\n",
    "    for i,l in enumerate(guess):\n",
    "        if l in word:\n",
    "            rtuple[i] = 1\n",
    "        if word[i]==l:\n",
    "            rtuple[i] = 2\n",
    "    return tuple(rtuple)"
   ]
  },
  {
   "cell_type": "code",
   "execution_count": null,
   "metadata": {},
   "outputs": [],
   "source": [
    "def gen_wordle(words, guesses):\n",
    "    rset = words.copy()\n",
    "    for guess, guess_tuple in guesses.items():\n",
    "        for i,xl in enumerate(guess_tuple):\n",
    "            removewords = set()\n",
    "            for word in rset:\n",
    "                if xl==0 and guess[i] in word:\n",
    "                    removewords.add(word)\n",
    "                elif xl==1 and guess[i] not in word:\n",
    "                    removewords.add(word)\n",
    "                elif xl==2 and guess[i]!=word[i]:\n",
    "                    removewords.add(word)\n",
    "            rset -= removewords\n",
    "    return rset"
   ]
  },
  {
   "cell_type": "code",
   "execution_count": null,
   "metadata": {},
   "outputs": [],
   "source": [
    "def next_wordle(words, no_bar=False):\n",
    "    rdict = defaultdict(lambda: defaultdict(int))\n",
    "    for word in tqdm(words, disable=no_bar):\n",
    "        for guess in words:\n",
    "            rdict[guess][ori_tuple(word, guess)] += 1\n",
    "    ml = max(len(v) for v in rdict.values())\n",
    "    score = {w:(ml-len(v))*len(words)//2 for w,v in rdict.items()}\n",
    "    for w,v in rdict.items():\n",
    "        for t,n in v.items():\n",
    "            score[w] += abs(n-len(words)//2)\n",
    "    min_score = score[min(score, key=score.get)]\n",
    "    ppp = set()\n",
    "    for word in sorted(score, key=score.get):\n",
    "        if score[word]==min_score:\n",
    "            ppp.add(word)\n",
    "        else:\n",
    "            break\n",
    "    return ppp"
   ]
  },
  {
   "cell_type": "code",
   "execution_count": null,
   "metadata": {},
   "outputs": [],
   "source": [
    "next_wordle(gen_wordle(words, {\"tares\": (0,0,0,0,0)}), no_bar=True)"
   ]
  }
 ],
 "metadata": {
  "kernelspec": {
   "display_name": "Python 3",
   "language": "python",
   "name": "python3"
  },
  "language_info": {
   "codemirror_mode": {
    "name": "ipython",
    "version": 3
   },
   "file_extension": ".py",
   "mimetype": "text/x-python",
   "name": "python",
   "nbconvert_exporter": "python",
   "pygments_lexer": "ipython3",
   "version": "3.11.1"
  },
  "orig_nbformat": 4
 },
 "nbformat": 4,
 "nbformat_minor": 2
}
